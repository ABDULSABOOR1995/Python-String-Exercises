{
 "cells": [
  {
   "cell_type": "markdown",
   "metadata": {},
   "source": [
    "<b> 1. Write a Python program to calculate the length of a string."
   ]
  },
  {
   "cell_type": "code",
   "execution_count": 1,
   "metadata": {},
   "outputs": [
    {
     "data": {
      "text/plain": [
       "6"
      ]
     },
     "execution_count": 1,
     "metadata": {},
     "output_type": "execute_result"
    }
   ],
   "source": [
    "\n",
    "sentence = \"saboor\"\n",
    "n = 0\n",
    "for i in sentence:\n",
    "    n+=1\n",
    "n"
   ]
  },
  {
   "cell_type": "markdown",
   "metadata": {},
   "source": [
    "<b> 2. Write a Python program to count the number of characters\n",
    "      (character frequency) in a string."
   ]
  },
  {
   "cell_type": "code",
   "execution_count": 2,
   "metadata": {},
   "outputs": [
    {
     "name": "stdout",
     "output_type": "stream",
     "text": [
      "g\n",
      "dict_keys([])\n",
      "1\n",
      "o\n",
      "dict_keys(['g'])\n",
      "1\n",
      "o\n",
      "dict_keys(['g', 'o'])\n",
      "o\n",
      "2\n",
      "g\n",
      "dict_keys(['g', 'o'])\n",
      "g\n",
      "2\n",
      "l\n",
      "dict_keys(['g', 'o'])\n",
      "1\n",
      "e\n",
      "dict_keys(['g', 'o', 'l'])\n",
      "1\n",
      ".\n",
      "dict_keys(['g', 'o', 'l', 'e'])\n",
      "1\n",
      "c\n",
      "dict_keys(['g', 'o', 'l', 'e', '.'])\n",
      "1\n",
      "o\n",
      "dict_keys(['g', 'o', 'l', 'e', '.', 'c'])\n",
      "o\n",
      "3\n",
      "m\n",
      "dict_keys(['g', 'o', 'l', 'e', '.', 'c'])\n",
      "1\n"
     ]
    },
    {
     "data": {
      "text/plain": [
       "{'g': 2, 'o': 3, 'l': 1, 'e': 1, '.': 1, 'c': 1, 'm': 1}"
      ]
     },
     "execution_count": 2,
     "metadata": {},
     "output_type": "execute_result"
    }
   ],
   "source": [
    "\n",
    "string = \"google.com\"\n",
    "dict = {}\n",
    "for i in string:\n",
    "    print(i)\n",
    "    keys = dict.keys()\n",
    "    print(keys)\n",
    "    if i in keys:\n",
    "        print(i)\n",
    "        dict[i] += 1\n",
    "        print(dict[i])\n",
    "    else:\n",
    "        dict[i] = 1\n",
    "        print(dict[i])\n",
    "dict"
   ]
  },
  {
   "cell_type": "markdown",
   "metadata": {},
   "source": [
    "<b> 3. Write a Python program to get a string made of the first 2 and the last 2 chars from a given a string. If the string length is less than 2, return instead of the empty string.</b><br>\n",
    "Sample String : 'w3resource'<br>\n",
    "Expected Result : 'w3ce'<br>\n",
    "Sample String : 'w3'<br>\n",
    "Expected Result : 'w3w3'<br>\n",
    "Sample String : ' w'<br>\n",
    "Expected Result : Empty String\n"
   ]
  },
  {
   "cell_type": "code",
   "execution_count": 3,
   "metadata": {},
   "outputs": [
    {
     "name": "stdout",
     "output_type": "stream",
     "text": [
      "w3w3\n"
     ]
    }
   ],
   "source": [
    "def return_first2_and_last2_chars(sentence):\n",
    "    if len(sentence) > 2:\n",
    "        return_chars = sentence[:2] + sentence[-2:len(sentence)]\n",
    "    elif len(sentence) == 2:\n",
    "        return_chars = sentence[:] + sentence[:]\n",
    "    else:\n",
    "        return_chars = \"Empty String\"\n",
    "    return return_chars\n",
    "\n",
    "sentence = \"w3\"\n",
    "print(return_first2_and_last2_chars(sentence))"
   ]
  },
  {
   "cell_type": "markdown",
   "metadata": {},
   "source": [
    "<b> 4. Write a Python program to get a string from a given string where all occurrences of its first char have been changed to , except the first char itself.</b>"
   ]
  },
  {
   "cell_type": "code",
   "execution_count": 4,
   "metadata": {},
   "outputs": [
    {
     "data": {
      "text/plain": [
       "'resta$t'"
      ]
     },
     "execution_count": 4,
     "metadata": {},
     "output_type": "execute_result"
    }
   ],
   "source": [
    "sentence = \"restart\"\n",
    "repalcing_sentence = \"\"\n",
    "for i in range(0,1):\n",
    "    repalcing_sentence+= sentence[i]\n",
    "    for j in range(1,len(sentence)):\n",
    "        if sentence[i] == sentence[j]:\n",
    "            repalcing_sentence+= \"$\"\n",
    "        else:\n",
    "            repalcing_sentence+= sentence[j] \n",
    "    \n",
    "repalcing_sentence"
   ]
  },
  {
   "cell_type": "markdown",
   "metadata": {},
   "source": [
    "<b> 5. Write a Python program to get a single string from two given strings, separated by a space and swap the first two characters of each string.</b><br>\n",
    "Sample String : 'abc', 'xyz' <br>\n",
    "Expected Result : 'xyc abz'"
   ]
  },
  {
   "cell_type": "code",
   "execution_count": 5,
   "metadata": {},
   "outputs": [
    {
     "data": {
      "text/plain": [
       "'xyc abz'"
      ]
     },
     "execution_count": 5,
     "metadata": {},
     "output_type": "execute_result"
    }
   ],
   "source": [
    "\n",
    "def string_manipulatiopn(s1, s2):\n",
    "    return s2[:2]+ s1[-1]+\" \"+s1[:2]+s2[-1] \n",
    "s1 = 'abc'\n",
    "s2 = 'xyz'\n",
    "string_manipulatiopn(s1, s2)"
   ]
  },
  {
   "cell_type": "markdown",
   "metadata": {},
   "source": [
    "<b> 6. Write a Python program to add 'ing' at the end of a given string (length should be at least 3). If the given string already ends with 'ing' then add 'ly' instead. If the string length of the given string is less than 3, leave it unchanged.</b><br>\n",
    "Sample String : 'abc'<br>\n",
    "Expected Result : 'abcing'<br> \n",
    "Sample String : 'string'<br>\n",
    "Expected Result : 'stringly'"
   ]
  },
  {
   "cell_type": "code",
   "execution_count": 6,
   "metadata": {},
   "outputs": [
    {
     "name": "stdout",
     "output_type": "stream",
     "text": [
      "Enter an string: she is the best\n"
     ]
    },
    {
     "data": {
      "text/plain": [
       "'she is the besting'"
      ]
     },
     "execution_count": 6,
     "metadata": {},
     "output_type": "execute_result"
    }
   ],
   "source": [
    "\n",
    "sentence = input(\"Enter an string: \")\n",
    "if len(sentence) >= 3:\n",
    "    if sentence[-3:len(sentence)] != \"ing\":\n",
    "        sentence+= \"ing\"\n",
    "    else:\n",
    "        sentence+= \"ly\"\n",
    "    \n",
    "sentence"
   ]
  },
  {
   "cell_type": "markdown",
   "metadata": {},
   "source": [
    "<b> 7. Write a Python program to find the first appearance of the substring 'not' and 'poor' from a given string, if 'not' follows the 'poor', replace the whole 'not'...'poor' substring with 'good'. Return the resulting string.</b><br> \n",
    "Sample String : 'The lyrics is not that poor!'<br>\n",
    "'The lyrics is poor!'<br>\n",
    "Expected Result : 'The lyrics is good!',<br>\n",
    "'The lyrics is poor!'"
   ]
  },
  {
   "cell_type": "code",
   "execution_count": 7,
   "metadata": {},
   "outputs": [
    {
     "data": {
      "text/plain": [
       "\"'The lyrics is good\""
      ]
     },
     "execution_count": 7,
     "metadata": {},
     "output_type": "execute_result"
    }
   ],
   "source": [
    "\n",
    "sentence = \"'The lyrics is not that poor!\"\n",
    "sentence.replace('not that poor!','good')\n",
    "# isko bhi baad me dekhte hain"
   ]
  },
  {
   "cell_type": "markdown",
   "metadata": {},
   "source": [
    "<b> 8. Write a Python function that takes a list of words and returns the length of the longest one."
   ]
  },
  {
   "cell_type": "code",
   "execution_count": 8,
   "metadata": {},
   "outputs": [
    {
     "name": "stdout",
     "output_type": "stream",
     "text": [
      "Enter a sentence: The lyrics is good\n"
     ]
    },
    {
     "data": {
      "text/plain": [
       "'lyrics'"
      ]
     },
     "execution_count": 8,
     "metadata": {},
     "output_type": "execute_result"
    }
   ],
   "source": [
    "\n",
    "def longest_word(sentence):\n",
    "    words = sentence.split()\n",
    "    length_words = [len(i) for i in words]\n",
    "    return words[length_words.index(max(length_words))]\n",
    "\n",
    "sentence = input(\"Enter a sentence: \")\n",
    "longest_word(sentence)"
   ]
  },
  {
   "cell_type": "markdown",
   "metadata": {},
   "source": [
    "<b> 9. Write a Python program to remove the nth index character from a nonempty string."
   ]
  },
  {
   "cell_type": "code",
   "execution_count": 9,
   "metadata": {},
   "outputs": [
    {
     "name": "stdout",
     "output_type": "stream",
     "text": [
      "Enter an string: The lyrics is good\n",
      "Enter removing index_value: 5\n"
     ]
    },
    {
     "data": {
      "text/plain": [
       "'The lrics is good'"
      ]
     },
     "execution_count": 9,
     "metadata": {},
     "output_type": "execute_result"
    }
   ],
   "source": [
    "\n",
    "string = input(\"Enter an string: \")\n",
    "removing_index = int(input(\"Enter removing index_value: \"))\n",
    "string = string.replace(string[removing_index],\"\")\n",
    "string"
   ]
  },
  {
   "cell_type": "markdown",
   "metadata": {},
   "source": [
    "<b> 10. Write a Python program to change a given string to a new string where the first and last chars have been exchanged."
   ]
  },
  {
   "cell_type": "code",
   "execution_count": 10,
   "metadata": {},
   "outputs": [
    {
     "name": "stdout",
     "output_type": "stream",
     "text": [
      "Enter an string: The lyrics is good\n"
     ]
    },
    {
     "data": {
      "text/plain": [
       "'dhe lyrics is gooT'"
      ]
     },
     "execution_count": 10,
     "metadata": {},
     "output_type": "execute_result"
    }
   ],
   "source": [
    "\n",
    "string = input(\"Enter an string: \")\n",
    "string = string[-1] + string[1:len(string)-1] + string[0]\n",
    "string"
   ]
  },
  {
   "cell_type": "markdown",
   "metadata": {},
   "source": [
    "<b> 11. Write a Python program to remove the characters which have odd index values of a given string."
   ]
  },
  {
   "cell_type": "code",
   "execution_count": 11,
   "metadata": {},
   "outputs": [
    {
     "name": "stdout",
     "output_type": "stream",
     "text": [
      "Enter a sentence: The lyrics is good\n"
     ]
    },
    {
     "data": {
      "text/plain": [
       "'h yisi od'"
      ]
     },
     "execution_count": 11,
     "metadata": {},
     "output_type": "execute_result"
    }
   ],
   "source": [
    "\n",
    "sentence = input(\"Enter a sentence: \")\n",
    "odd_letters = ''\n",
    "result = [sentence[i] for i in range(1,len(sentence),2)]\n",
    "for i in result:\n",
    "    odd_letters+= i\n",
    "odd_letters"
   ]
  },
  {
   "cell_type": "markdown",
   "metadata": {},
   "source": [
    "<b> 12. Write a Python program to count the occurrences of each word in a given sentence."
   ]
  },
  {
   "cell_type": "code",
   "execution_count": 12,
   "metadata": {},
   "outputs": [
    {
     "name": "stdout",
     "output_type": "stream",
     "text": [
      "Enter an string: The lyrics is good\n"
     ]
    },
    {
     "data": {
      "text/plain": [
       "0"
      ]
     },
     "execution_count": 12,
     "metadata": {},
     "output_type": "execute_result"
    }
   ],
   "source": [
    "\n",
    "sentence = input(\"Enter an string: \")\n",
    "sentence.count('I')"
   ]
  },
  {
   "cell_type": "markdown",
   "metadata": {},
   "source": [
    "<b> 13. Write a Python script that takes input from the user and displays that input back in upper and lower cases."
   ]
  },
  {
   "cell_type": "code",
   "execution_count": 13,
   "metadata": {},
   "outputs": [
    {
     "name": "stdout",
     "output_type": "stream",
     "text": [
      "Enter an string: The lyrics is good\n",
      "THE LYRICS IS GOOD\n",
      "the lyrics is good\n"
     ]
    }
   ],
   "source": [
    "\n",
    "sentence = input(\"Enter an string: \")\n",
    "print(sentence.upper())\n",
    "print(sentence.lower())"
   ]
  },
  {
   "cell_type": "markdown",
   "metadata": {},
   "source": [
    "<b> 14. Write a Python program that accepts a comma separated sequence of words as input and prints the unique words in sorted form (alphanumerically).</b><br>\n",
    "Sample Words : red, white, black, red, green, black<br>\n",
    "Expected Result : black, green, red, white,red\n"
   ]
  },
  {
   "cell_type": "code",
   "execution_count": 14,
   "metadata": {},
   "outputs": [
    {
     "data": {
      "text/plain": [
       "'red, green, white, black'"
      ]
     },
     "execution_count": 14,
     "metadata": {},
     "output_type": "execute_result"
    }
   ],
   "source": [
    "input_value = \"red,white,black,red,green,black\"\n",
    "list_input_value = input_value.split(\",\")\n",
    "list_input_value.sort()\n",
    "sorted_values = \", \".join([i for i in set(list_input_value)])\n",
    "sorted_values"
   ]
  },
  {
   "cell_type": "markdown",
   "metadata": {},
   "source": [
    "<b> 15.Write a Python function to get a string made of 4 copies of the last two characters of a specified string (length must be at least 2)."
   ]
  },
  {
   "cell_type": "code",
   "execution_count": 15,
   "metadata": {},
   "outputs": [
    {
     "name": "stdout",
     "output_type": "stream",
     "text": [
      "Enter a string: The lyrics is good\n"
     ]
    },
    {
     "data": {
      "text/plain": [
       "'odododod'"
      ]
     },
     "execution_count": 15,
     "metadata": {},
     "output_type": "execute_result"
    }
   ],
   "source": [
    "\n",
    "def return_last2letters_4times(string):\n",
    "    return string[-2:] * 4 \n",
    "string = input(\"Enter a string: \")\n",
    "return_last2letters_4times(string)"
   ]
  },
  {
   "cell_type": "markdown",
   "metadata": {},
   "source": [
    "<b> 16. Write a Python function to get a string made of its first three characters of a specified string. If the length of the string is less than 3 then return the original string.</b><br>\n",
    "Sample function and result : <br>\n",
    "first_three('ipy') -> ipy<br>\n",
    "first_three('python') -> pyt<br>\n"
   ]
  },
  {
   "cell_type": "code",
   "execution_count": 16,
   "metadata": {},
   "outputs": [
    {
     "name": "stdout",
     "output_type": "stream",
     "text": [
      "Enter a string: The lyrics is good\n"
     ]
    },
    {
     "data": {
      "text/plain": [
       "'The'"
      ]
     },
     "execution_count": 16,
     "metadata": {},
     "output_type": "execute_result"
    }
   ],
   "source": [
    "def manipulation(string):\n",
    "    if len(string) > 3:\n",
    "        return string[:3]\n",
    "    else:\n",
    "        return string\n",
    "string = input(\"Enter a string: \")\n",
    "manipulation(string)"
   ]
  },
  {
   "cell_type": "markdown",
   "metadata": {},
   "source": [
    "<b>17.Write a Python program to get the last part of a string before a specified character.</b><br>\n",
    "https://www.w3resource.com/python-exercises<br>\n",
    "https://www.w3resource.com/python '''\n"
   ]
  },
  {
   "cell_type": "code",
   "execution_count": 17,
   "metadata": {},
   "outputs": [
    {
     "name": "stdout",
     "output_type": "stream",
     "text": [
      "https://www.w3resource.com/python-exercises\n",
      "https://www.w3resource.com/python\n"
     ]
    }
   ],
   "source": [
    "str1 = 'https://www.w3resource.com/python-exercises/string'\n",
    "print(str1.rsplit('/', 1)[0])  #naya tareeqa seekha h use karne ka\n",
    "print(str1.rsplit('-', 1)[0])"
   ]
  },
  {
   "cell_type": "markdown",
   "metadata": {},
   "source": [
    "<b> 18.Write a Python function to reverses a string if it's length is a multiple of 4."
   ]
  },
  {
   "cell_type": "code",
   "execution_count": 18,
   "metadata": {},
   "outputs": [
    {
     "name": "stdout",
     "output_type": "stream",
     "text": [
      "Enter a string: The lyrics is good\n",
      "The lyrics is good\n"
     ]
    }
   ],
   "source": [
    "\n",
    "def reverse_sentence(sentence):\n",
    "    result = ''\n",
    "    for i in range(len(sentence)-1, -1,-1):\n",
    "        result+= sentence[i]\n",
    "    return result    \n",
    "\n",
    "sentence = input(\"Enter a string: \")\n",
    "if len(sentence) % 4 == 0:\n",
    "    print(reverse_sentence(sentence))\n",
    "else:\n",
    "    print(sentence)"
   ]
  },
  {
   "cell_type": "markdown",
   "metadata": {},
   "source": [
    "<b> 19.Write a Python function to convert a given string to all uppercase if it contains at least 2 uppercase characters in the first 4 characters."
   ]
  },
  {
   "cell_type": "code",
   "execution_count": 19,
   "metadata": {},
   "outputs": [
    {
     "name": "stdout",
     "output_type": "stream",
     "text": [
      "Enter a string: The lyrics is good\n"
     ]
    },
    {
     "data": {
      "text/plain": [
       "'The lyrics is good'"
      ]
     },
     "execution_count": 19,
     "metadata": {},
     "output_type": "execute_result"
    }
   ],
   "source": [
    "\n",
    "string = input(\"Enter a string: \")\n",
    "n = 0\n",
    "for i in range(0, 4):\n",
    "    if string[i].isupper():\n",
    "        n+=1\n",
    "if n >= 2:\n",
    "    string = string.upper()\n",
    "string"
   ]
  },
  {
   "cell_type": "markdown",
   "metadata": {},
   "source": [
    "<b> 20.Write a Python program to sort a string lexicographically. "
   ]
  },
  {
   "cell_type": "code",
   "execution_count": 20,
   "metadata": {},
   "outputs": [
    {
     "data": {
      "text/plain": [
       "['b', 'c', 'i', 'k', 'n', 'o', 'q', 'r', 'u', 'w']"
      ]
     },
     "execution_count": 20,
     "metadata": {},
     "output_type": "execute_result"
    }
   ],
   "source": [
    "\n",
    "string = \"quickbrown\"\n",
    "letters = list(string)\n",
    "letters.sort()\n",
    "letters"
   ]
  },
  {
   "cell_type": "markdown",
   "metadata": {},
   "source": [
    "<b> 21.Write a Python program to check whether a string starts with specified characters."
   ]
  },
  {
   "cell_type": "code",
   "execution_count": 21,
   "metadata": {},
   "outputs": [
    {
     "name": "stdout",
     "output_type": "stream",
     "text": [
      "True\n"
     ]
    }
   ],
   "source": [
    "\n",
    "string = \"w3resource.com\"\n",
    "print(string.startswith(\"w3res\"))"
   ]
  },
  {
   "cell_type": "markdown",
   "metadata": {},
   "source": [
    "<b> 22. Write a Python program to create a Caesar encryption."
   ]
  },
  {
   "cell_type": "code",
   "execution_count": 22,
   "metadata": {},
   "outputs": [],
   "source": [
    "\n",
    "#baad me karoonga"
   ]
  },
  {
   "cell_type": "markdown",
   "metadata": {},
   "source": [
    "<b> 23.Write a Python program to print the following floating numbers upto 2 decimal places."
   ]
  },
  {
   "cell_type": "code",
   "execution_count": 23,
   "metadata": {},
   "outputs": [
    {
     "name": "stdout",
     "output_type": "stream",
     "text": [
      "12.35\n"
     ]
    }
   ],
   "source": [
    "\n",
    "num = 12.345678900\n",
    "print(\"{:.2f}\".format(num))"
   ]
  },
  {
   "cell_type": "markdown",
   "metadata": {},
   "source": [
    "<b> 24.Write a Python program to print the following floating numbers with no decimal places."
   ]
  },
  {
   "cell_type": "code",
   "execution_count": 24,
   "metadata": {},
   "outputs": [
    {
     "name": "stdout",
     "output_type": "stream",
     "text": [
      "13\n"
     ]
    }
   ],
   "source": [
    "\n",
    "num = 12.945678900\n",
    "print(\"{:.0f}\".format(num))"
   ]
  },
  {
   "cell_type": "markdown",
   "metadata": {},
   "source": [
    "<b> 25.Write a Python program to display a number with a comma separator."
   ]
  },
  {
   "cell_type": "code",
   "execution_count": 25,
   "metadata": {},
   "outputs": [
    {
     "name": "stdout",
     "output_type": "stream",
     "text": [
      "3,000,000,000,000\n"
     ]
    }
   ],
   "source": [
    "\n",
    "num = 3000000000000\n",
    "print(\"{:,}\".format(num))"
   ]
  },
  {
   "cell_type": "markdown",
   "metadata": {},
   "source": [
    "<b> 26.Write a Python program to count occurrences of a substring in a string."
   ]
  },
  {
   "cell_type": "code",
   "execution_count": 26,
   "metadata": {},
   "outputs": [
    {
     "name": "stdout",
     "output_type": "stream",
     "text": [
      "Enter an string: The lyrics is good\n"
     ]
    },
    {
     "data": {
      "text/plain": [
       "0"
      ]
     },
     "execution_count": 26,
     "metadata": {},
     "output_type": "execute_result"
    }
   ],
   "source": [
    "\n",
    "string = input(\"Enter an string: \")\n",
    "string.count('and')"
   ]
  },
  {
   "cell_type": "markdown",
   "metadata": {},
   "source": [
    "<b> 27.Write a Python program to reverse a string."
   ]
  },
  {
   "cell_type": "code",
   "execution_count": 27,
   "metadata": {},
   "outputs": [
    {
     "name": "stdout",
     "output_type": "stream",
     "text": [
      "roobas\n"
     ]
    }
   ],
   "source": [
    "\n",
    "string = \"saboor\"\n",
    "print(''.join(reversed(string)))"
   ]
  },
  {
   "cell_type": "markdown",
   "metadata": {},
   "source": [
    "<b> 28.Write a Python program to reverse words in a string."
   ]
  },
  {
   "cell_type": "code",
   "execution_count": 28,
   "metadata": {},
   "outputs": [
    {
     "data": {
      "text/plain": [
       "'fox brown quick The'"
      ]
     },
     "execution_count": 28,
     "metadata": {},
     "output_type": "execute_result"
    }
   ],
   "source": [
    "\n",
    "string = \"The quick brown fox\"\n",
    "s = ''\n",
    "words = string.split()\n",
    "for i in range(len(words)-1,-1,-1):\n",
    "    s+= words[i]+\" \"\n",
    "s.rstrip()"
   ]
  },
  {
   "cell_type": "markdown",
   "metadata": {},
   "source": [
    " <b> 29.Write a Python program to remove leading zeros from an IP address."
   ]
  },
  {
   "cell_type": "code",
   "execution_count": 29,
   "metadata": {},
   "outputs": [
    {
     "data": {
      "text/plain": [
       "'192.168.1.1'"
      ]
     },
     "execution_count": 29,
     "metadata": {},
     "output_type": "execute_result"
    }
   ],
   "source": [
    "\n",
    "ip_address = \"192.168.01.01\"\n",
    "remove_leading_zero =\".\".join([str(int(i)) for i in ip_address.split('.')])\n",
    "remove_leading_zero"
   ]
  },
  {
   "cell_type": "markdown",
   "metadata": {},
   "source": [
    "<b> 30.Write a Python program to compute sum of digits of a given string."
   ]
  },
  {
   "cell_type": "code",
   "execution_count": 30,
   "metadata": {},
   "outputs": [
    {
     "data": {
      "text/plain": [
       "15"
      ]
     },
     "execution_count": 30,
     "metadata": {},
     "output_type": "execute_result"
    }
   ],
   "source": [
    "\n",
    "string = \"123abc45\"\n",
    "total = 0\n",
    "for i in string:\n",
    "    if i.isdigit():\n",
    "        total+= int(i)\n",
    "total"
   ]
  },
  {
   "cell_type": "markdown",
   "metadata": {},
   "source": [
    "<b> 31.Write a Python program to remove duplicate characters of a given string."
   ]
  },
  {
   "cell_type": "code",
   "execution_count": 31,
   "metadata": {},
   "outputs": [
    {
     "name": "stdout",
     "output_type": "stream",
     "text": [
      "Enter an string: The lyrics is good\n"
     ]
    },
    {
     "data": {
      "text/plain": [
       "'The lyricsgod'"
      ]
     },
     "execution_count": 31,
     "metadata": {},
     "output_type": "execute_result"
    }
   ],
   "source": [
    "\n",
    "string = input(\"Enter an string: \")\n",
    "remove_duplicates = []\n",
    "for i in string:\n",
    "    if i not in remove_duplicates:\n",
    "        remove_duplicates.append(i)\n",
    "        \n",
    "new_string = ''.join([i for i in remove_duplicates])\n",
    "new_string"
   ]
  },
  {
   "cell_type": "markdown",
   "metadata": {},
   "source": [
    "<b> 32.Write a Python program to capitalize first and last letters of each word of a given string. "
   ]
  },
  {
   "cell_type": "code",
   "execution_count": 32,
   "metadata": {},
   "outputs": [
    {
     "name": "stdout",
     "output_type": "stream",
     "text": [
      "Enter a sentence: The lyrics is good\n"
     ]
    },
    {
     "data": {
      "text/plain": [
       "'ThE LyricS IS GooD'"
      ]
     },
     "execution_count": 32,
     "metadata": {},
     "output_type": "execute_result"
    }
   ],
   "source": [
    "\n",
    "sentence = input(\"Enter a sentence: \")\n",
    "words = sentence.split()\n",
    "new_words = []\n",
    "for word in words:\n",
    "    if len(word)>= 2:\n",
    "        word = word[0].upper()+ word[1:len(word)-1] + word[-1].upper()\n",
    "    else:\n",
    "        word = word[0].upper()\n",
    "    new_words.append(word)\n",
    "manipulated_sentence = \" \".join([i for i in new_words])\n",
    "manipulated_sentence"
   ]
  },
  {
   "cell_type": "markdown",
   "metadata": {},
   "source": [
    "<b> 33.Write a Python program to find the maximum occurring character in a given string."
   ]
  },
  {
   "cell_type": "code",
   "execution_count": 33,
   "metadata": {},
   "outputs": [
    {
     "name": "stdout",
     "output_type": "stream",
     "text": [
      "Enter an string: The lyrics is good\n",
      "T: 1\n",
      "h: 1\n",
      "e: 1\n",
      " : 3\n",
      "l: 1\n",
      "y: 1\n",
      "r: 1\n",
      "i: 2\n",
      "c: 1\n",
      "s: 2\n",
      "g: 1\n",
      "o: 2\n",
      "d: 1\n",
      "Miximum occuring chartacter is   which occurs 3 times\n"
     ]
    }
   ],
   "source": [
    "\n",
    "string = input(\"Enter an string: \")\n",
    "chars = []\n",
    "count = []\n",
    "for i in string:\n",
    "    if i not in chars:\n",
    "        chars.append(i)\n",
    "chars\n",
    "for i in chars:\n",
    "    n = 0\n",
    "    for j in list(string):\n",
    "        if i == j:\n",
    "            n+= 1\n",
    "    count.append(n)\n",
    "    print(i+\": \"+str(n))\n",
    "max_index = count.index(max(count))\n",
    "print(\"Miximum occuring chartacter is \"+chars[max_index]+\" which occurs \"+str(count[max_index])+\" times\")\n",
    "        "
   ]
  },
  {
   "cell_type": "markdown",
   "metadata": {},
   "source": [
    "<b> 34.Write a Python program to remove spaces from a given string."
   ]
  },
  {
   "cell_type": "code",
   "execution_count": 34,
   "metadata": {},
   "outputs": [
    {
     "name": "stdout",
     "output_type": "stream",
     "text": [
      "Enter an stringThe lyrics is good\n"
     ]
    },
    {
     "data": {
      "text/plain": [
       "'Thelyricsisgood'"
      ]
     },
     "execution_count": 34,
     "metadata": {},
     "output_type": "execute_result"
    }
   ],
   "source": [
    "\n",
    "sentence = input(\"Enter an string\")\n",
    "with_out_spaces = \"\".join([word for word in sentence.split()])\n",
    "with_out_spaces"
   ]
  },
  {
   "cell_type": "markdown",
   "metadata": {},
   "source": [
    "<b>35.Write a Python program to find the second most repeated word in a given string."
   ]
  },
  {
   "cell_type": "code",
   "execution_count": 35,
   "metadata": {},
   "outputs": [
    {
     "name": "stdout",
     "output_type": "stream",
     "text": [
      "Enter an string: The lyrics is good\n",
      "T: 1\n",
      "h: 1\n",
      "e: 1\n",
      " : 3\n",
      "l: 1\n",
      "y: 1\n",
      "r: 1\n",
      "i: 2\n",
      "c: 1\n",
      "s: 2\n",
      "g: 1\n",
      "o: 2\n",
      "d: 1\n",
      "2nd Miximum occuring chartacter is r which occurs 2 times\n"
     ]
    }
   ],
   "source": [
    "\n",
    "string = input(\"Enter an string: \")\n",
    "chars = []\n",
    "count = []\n",
    "for i in string:\n",
    "    if i not in chars:\n",
    "        chars.append(i)\n",
    "chars\n",
    "for i in chars:\n",
    "    n = 0\n",
    "    for j in list(string):\n",
    "        if i == j:\n",
    "            n+= 1\n",
    "    count.append(n)\n",
    "    print(i+\": \"+str(n))\n",
    "count.remove(max(count))\n",
    "max_index = count.index(max(count))\n",
    "print(\"2nd Miximum occuring chartacter is \"+chars[max_index]+\" which occurs \"+str(count[max_index])+\" times\")\n"
   ]
  },
  {
   "cell_type": "markdown",
   "metadata": {},
   "source": [
    "<b>36. Write a Python program to find the first repeated word in a given string."
   ]
  },
  {
   "cell_type": "code",
   "execution_count": 36,
   "metadata": {},
   "outputs": [
    {
     "name": "stdout",
     "output_type": "stream",
     "text": [
      "Enter an string: The lyrics is good\n",
      "The first repeated character is:  \n"
     ]
    }
   ],
   "source": [
    "\n",
    "string = input(\"Enter an string: \")\n",
    "chars = []\n",
    "for i in string:\n",
    "    if i not in chars:\n",
    "        chars.append(i)\n",
    "    else:\n",
    "        first_repeated_word = i\n",
    "        break\n",
    "print(\"The first repeated character is: \"+first_repeated_word) "
   ]
  },
  {
   "cell_type": "markdown",
   "metadata": {},
   "source": [
    "<b> 37. Write a Python program to find the first repeated character of a given string where the index of first occurrence is smallest."
   ]
  },
  {
   "cell_type": "code",
   "execution_count": 37,
   "metadata": {},
   "outputs": [
    {
     "name": "stdout",
     "output_type": "stream",
     "text": [
      "Enter an string: The lyrics is good\n",
      "The first repeated character is:   whose index is 3\n"
     ]
    }
   ],
   "source": [
    "\n",
    "string = input(\"Enter an string: \")\n",
    "chars = []\n",
    "for i in range(0, len(string)):\n",
    "    if string[i] not in chars:\n",
    "        chars.append(string[i])\n",
    "    else:\n",
    "        first_repeated_word = string[i]\n",
    "        index = string.index(first_repeated_word)\n",
    "        break\n",
    "print(\"The first repeated character is: \"+first_repeated_word+\" whose index is \"+str(index)) "
   ]
  },
  {
   "cell_type": "markdown",
   "metadata": {},
   "source": [
    "<b>38. Write a Python program to count and display the vowels of a given text."
   ]
  },
  {
   "cell_type": "code",
   "execution_count": 38,
   "metadata": {},
   "outputs": [
    {
     "name": "stdout",
     "output_type": "stream",
     "text": [
      "Enter an string: The lyrics is good\n",
      "Vowel e occur 1 times in The lyrics is good\n",
      "Vowel i occur 2 times in The lyrics is good\n",
      "Vowel o occur 2 times in The lyrics is good\n"
     ]
    }
   ],
   "source": [
    "\n",
    "vowels = ['a','e','i','o','u']\n",
    "string = input(\"Enter an string: \")\n",
    "n = 0\n",
    "for i in vowels:\n",
    "    n = 0\n",
    "    for j in string:\n",
    "        if i == j.lower():\n",
    "            n+=1\n",
    "    if n > 0:\n",
    "        print(\"Vowel \"+i+\" occur \"+str(n)+\" times in \"+string)"
   ]
  },
  {
   "cell_type": "markdown",
   "metadata": {},
   "source": [
    "<b>39.Write a Python program to swap comma and dot in a string.</b><br>\n",
    "Sample string: \"32.054,23\"<br>\n",
    "Expected Output: \"32,054.23\" "
   ]
  },
  {
   "cell_type": "code",
   "execution_count": 39,
   "metadata": {},
   "outputs": [
    {
     "ename": "NameError",
     "evalue": "name 'comma_index' is not defined",
     "output_type": "error",
     "traceback": [
      "\u001b[1;31m---------------------------------------------------------------------------\u001b[0m",
      "\u001b[1;31mNameError\u001b[0m                                 Traceback (most recent call last)",
      "\u001b[1;32m<ipython-input-39-c88c805d060f>\u001b[0m in \u001b[0;36m<module>\u001b[1;34m\u001b[0m\n\u001b[0;32m      3\u001b[0m \u001b[0mdot_index\u001b[0m \u001b[1;33m=\u001b[0m \u001b[0mstring\u001b[0m\u001b[1;33m.\u001b[0m\u001b[0mindex\u001b[0m\u001b[1;33m(\u001b[0m\u001b[1;34m\",\"\u001b[0m\u001b[1;33m)\u001b[0m\u001b[1;33m\u001b[0m\u001b[0m\n\u001b[0;32m      4\u001b[0m \u001b[0mtemp\u001b[0m \u001b[1;33m=\u001b[0m \u001b[0mstring\u001b[0m\u001b[1;33m[\u001b[0m\u001b[0mdot_index\u001b[0m\u001b[1;33m]\u001b[0m\u001b[1;33m\u001b[0m\u001b[0m\n\u001b[1;32m----> 5\u001b[1;33m \u001b[0mstring\u001b[0m\u001b[1;33m[\u001b[0m\u001b[0mdot_index\u001b[0m\u001b[1;33m]\u001b[0m \u001b[1;33m=\u001b[0m \u001b[0mstring\u001b[0m\u001b[1;33m[\u001b[0m\u001b[0mcomma_index\u001b[0m\u001b[1;33m]\u001b[0m\u001b[1;33m\u001b[0m\u001b[0m\n\u001b[0m\u001b[0;32m      6\u001b[0m \u001b[0mstring\u001b[0m\u001b[1;33m[\u001b[0m\u001b[0mcomma_index\u001b[0m\u001b[1;33m]\u001b[0m \u001b[1;33m=\u001b[0m \u001b[0mtemp\u001b[0m\u001b[1;33m\u001b[0m\u001b[0m\n\u001b[0;32m      7\u001b[0m \u001b[1;31m#dekhoonga baad me\u001b[0m\u001b[1;33m\u001b[0m\u001b[1;33m\u001b[0m\u001b[0m\n",
      "\u001b[1;31mNameError\u001b[0m: name 'comma_index' is not defined"
     ]
    }
   ],
   "source": [
    "string = \"32.054,23\"\n",
    "dot_index = string.index(\".\")\n",
    "dot_index = string.index(\",\")\n",
    "temp = string[dot_index] \n",
    "string[dot_index] = string[comma_index]\n",
    "string[comma_index] = temp\n",
    "#dekhoonga baad me"
   ]
  },
  {
   "cell_type": "markdown",
   "metadata": {},
   "source": [
    "<b>40.Write a Python program to uppercase first n characters in a string."
   ]
  },
  {
   "cell_type": "code",
   "execution_count": 40,
   "metadata": {},
   "outputs": [
    {
     "name": "stdout",
     "output_type": "stream",
     "text": [
      "Enter an string: The lyrics is good\n",
      "Enter length of characters that you want to lowercase: 6\n"
     ]
    },
    {
     "data": {
      "text/plain": [
       "'THE LYrics is good'"
      ]
     },
     "execution_count": 40,
     "metadata": {},
     "output_type": "execute_result"
    }
   ],
   "source": [
    "\n",
    "string = input(\"Enter an string: \")\n",
    "n = int(input(\"Enter length of characters that you want to lowercase: \"))\n",
    "manipulates_string = ''.join([string[i].upper() for i in range(0, n)]) + string[n:]\n",
    "manipulates_string"
   ]
  },
  {
   "cell_type": "markdown",
   "metadata": {},
   "source": [
    "<b>41.Write a Python program to convert a string in a list."
   ]
  },
  {
   "cell_type": "code",
   "execution_count": 41,
   "metadata": {},
   "outputs": [
    {
     "name": "stdout",
     "output_type": "stream",
     "text": [
      "Enter an string: The lyrics is good\n"
     ]
    },
    {
     "data": {
      "text/plain": [
       "['T',\n",
       " 'h',\n",
       " 'e',\n",
       " ' ',\n",
       " 'l',\n",
       " 'y',\n",
       " 'r',\n",
       " 'i',\n",
       " 'c',\n",
       " 's',\n",
       " ' ',\n",
       " 'i',\n",
       " 's',\n",
       " ' ',\n",
       " 'g',\n",
       " 'o',\n",
       " 'o',\n",
       " 'd']"
      ]
     },
     "execution_count": 41,
     "metadata": {},
     "output_type": "execute_result"
    }
   ],
   "source": [
    "\n",
    "string = input(\"Enter an string: \")\n",
    "string = list(string)\n",
    "string"
   ]
  },
  {
   "cell_type": "markdown",
   "metadata": {},
   "source": [
    "<b> 42.Write a Python program to check if a string contains all letters of the alphabet. "
   ]
  },
  {
   "cell_type": "code",
   "execution_count": 42,
   "metadata": {},
   "outputs": [
    {
     "name": "stdout",
     "output_type": "stream",
     "text": [
      "Enter an string: The lyrics is good\n",
      "No\n"
     ]
    }
   ],
   "source": [
    "\n",
    "string = input(\"Enter an string: \")\n",
    "if string.isalpha():\n",
    "    print(\"yes\")\n",
    "else:\n",
    "    print(\"No\")"
   ]
  },
  {
   "cell_type": "markdown",
   "metadata": {},
   "source": [
    "<b> 43.Write a Python program to print the index of the character in a string.</b><br>\n",
    "Sample string: w3resource <br>\n",
    "Expected output:<br>\n",
    "Current character w position at 0<br>\n",
    "Current character 3 position at 1<br>\n",
    "Current character r position at 2<br>\n",
    "- - - - - - - - - - - - - - - - - - - - - - - - -\n",
    "Current character c position at 8<br>\n",
    "Current character e position at 9<br>\n"
   ]
  },
  {
   "cell_type": "code",
   "execution_count": 43,
   "metadata": {},
   "outputs": [
    {
     "name": "stdout",
     "output_type": "stream",
     "text": [
      "Enter an string: The lyrics is good\n",
      "Current character T position at 0\n",
      "Current character h position at 1\n",
      "Current character e position at 2\n",
      "Current character   position at 3\n",
      "Current character l position at 4\n",
      "Current character y position at 5\n",
      "Current character r position at 6\n",
      "Current character i position at 7\n",
      "Current character c position at 8\n",
      "Current character s position at 9\n",
      "Current character   position at 10\n",
      "Current character i position at 11\n",
      "Current character s position at 12\n",
      "Current character   position at 13\n",
      "Current character g position at 14\n",
      "Current character o position at 15\n",
      "Current character o position at 16\n",
      "Current character d position at 17\n"
     ]
    }
   ],
   "source": [
    "string = input(\"Enter an string: \")\n",
    "for i in range(0, len(string)):\n",
    "    print(\"Current character \"+string[i]+\" position at \"+str(i))"
   ]
  },
  {
   "cell_type": "markdown",
   "metadata": {},
   "source": [
    "<b> 44. Write a Python program to count repeated characters in a string.</b><br>\n",
    "Sample string: 'thequickbrownfoxjumpsoverthelazydog'<br>\n",
    "Expected output :<br>\n",
    "o 4<br>\n",
    "e 3<br>\n",
    "u 2<br>\n",
    "h 2<br>\n",
    "r 2<br>\n",
    "t 2\n"
   ]
  },
  {
   "cell_type": "code",
   "execution_count": 44,
   "metadata": {},
   "outputs": [
    {
     "name": "stdout",
     "output_type": "stream",
     "text": [
      "Enter an string: The lyrics is good\n",
      " : 3\n",
      "i: 2\n",
      "s: 2\n",
      "o: 2\n"
     ]
    }
   ],
   "source": [
    "string = input(\"Enter an string: \")\n",
    "unique_letters = []\n",
    "unique_letters_occurence = []\n",
    "for i in string:\n",
    "    if i not in unique_letters:\n",
    "        unique_letters.append(i)\n",
    "\n",
    "for i in unique_letters:\n",
    "    n = 0\n",
    "    for j in string:\n",
    "        if i == j:\n",
    "            n+= 1\n",
    "    unique_letters_occurence.append(n)\n",
    "\n",
    "for i in range(0,len(unique_letters_occurence)):\n",
    "    if unique_letters_occurence[i] > 1:\n",
    "        print(unique_letters[i]+\": \"+str(unique_letters_occurence[i]))"
   ]
  },
  {
   "cell_type": "markdown",
   "metadata": {},
   "source": [
    "<b>45.Write a Python program to strip a set of characters from a string."
   ]
  },
  {
   "cell_type": "code",
   "execution_count": 45,
   "metadata": {},
   "outputs": [
    {
     "name": "stdout",
     "output_type": "stream",
     "text": [
      "Enter an string: The lyrics is good\n",
      "Enter characters in string form you want to strip: l\n"
     ]
    },
    {
     "data": {
      "text/plain": [
       "'The yrics is good'"
      ]
     },
     "execution_count": 45,
     "metadata": {},
     "output_type": "execute_result"
    }
   ],
   "source": [
    "\n",
    "string = input(\"Enter an string: \")\n",
    "set_of_striping_chars = input(\"Enter characters in string form you want to strip: \")\n",
    "manipulated_string = \"\".join([i for i in string if i.lower() not in set_of_striping_chars])\n",
    "manipulated_string"
   ]
  },
  {
   "cell_type": "markdown",
   "metadata": {},
   "source": [
    "<b>46. Write program to count the frequency of words in a sentence"
   ]
  },
  {
   "cell_type": "code",
   "execution_count": 46,
   "metadata": {},
   "outputs": [
    {
     "name": "stdout",
     "output_type": "stream",
     "text": [
      "Enter a sentence: The lyrics is good\n"
     ]
    },
    {
     "data": {
      "text/plain": [
       "{'The': 1, 'lyrics': 1, 'is': 1, 'good': 1}"
      ]
     },
     "execution_count": 46,
     "metadata": {},
     "output_type": "execute_result"
    }
   ],
   "source": [
    "\n",
    "\n",
    "sentence = input(\"Enter a sentence: \")\n",
    "words = sentence.split()\n",
    "unique_words = []\n",
    "n = 1\n",
    "for i in words:\n",
    "    if i not in unique_words:\n",
    "        unique_words.append(i)\n",
    "frequency = []\n",
    "word_freq = {}\n",
    "n = 0\n",
    "for i in unique_words:\n",
    "    n = 0\n",
    "    for j in words:\n",
    "        if i == j:\n",
    "            n+=1\n",
    "    frequency.append(n)\n",
    "index = 0\n",
    "for i in unique_words:\n",
    "    word_freq[i] = frequency[index]\n",
    "    index+= 1\n",
    "word_freq"
   ]
  },
  {
   "cell_type": "markdown",
   "metadata": {},
   "source": [
    "<b> 47. Write program to count the frequency of letters in a string"
   ]
  },
  {
   "cell_type": "code",
   "execution_count": 47,
   "metadata": {},
   "outputs": [
    {
     "name": "stdout",
     "output_type": "stream",
     "text": [
      "Enter an string: The lyrics is good\n"
     ]
    },
    {
     "data": {
      "text/plain": [
       "{'T': 1,\n",
       " 'h': 1,\n",
       " 'e': 1,\n",
       " ' ': 3,\n",
       " 'l': 1,\n",
       " 'y': 1,\n",
       " 'r': 1,\n",
       " 'i': 2,\n",
       " 'c': 1,\n",
       " 's': 2,\n",
       " 'g': 1,\n",
       " 'o': 2,\n",
       " 'd': 1}"
      ]
     },
     "execution_count": 47,
     "metadata": {},
     "output_type": "execute_result"
    }
   ],
   "source": [
    "\n",
    "\n",
    "string = input(\"Enter an string: \")\n",
    "letters = [i for i in string]\n",
    "unique_letters = []\n",
    "n = 1\n",
    "for i in letters:\n",
    "    if i not in unique_letters:\n",
    "        unique_letters.append(i)\n",
    "frequency = []\n",
    "letter_freq = {}\n",
    "n = 0\n",
    "for i in unique_letters:\n",
    "    n = 0\n",
    "    for j in letters:\n",
    "        if i == j:\n",
    "            n+=1\n",
    "    frequency.append(n)\n",
    "index = 0\n",
    "for i in unique_letters:\n",
    "    letter_freq[i] = frequency[index]\n",
    "    index+= 1\n",
    "letter_freq"
   ]
  },
  {
   "cell_type": "code",
   "execution_count": null,
   "metadata": {},
   "outputs": [],
   "source": []
  }
 ],
 "metadata": {
  "kernelspec": {
   "display_name": "Python 3",
   "language": "python",
   "name": "python3"
  },
  "language_info": {
   "codemirror_mode": {
    "name": "ipython",
    "version": 3
   },
   "file_extension": ".py",
   "mimetype": "text/x-python",
   "name": "python",
   "nbconvert_exporter": "python",
   "pygments_lexer": "ipython3",
   "version": "3.6.5"
  }
 },
 "nbformat": 4,
 "nbformat_minor": 2
}
