{
 "cells": [
  {
   "cell_type": "code",
   "execution_count": 1,
   "metadata": {},
   "outputs": [
    {
     "data": {
      "text/plain": [
       "6"
      ]
     },
     "execution_count": 1,
     "metadata": {},
     "output_type": "execute_result"
    }
   ],
   "source": [
    "'''1. Write a Python program to calculate the length of a string.'''\n",
    "sentence = \"saboor\"\n",
    "n = 0\n",
    "for i in sentence:\n",
    "    n+=1\n",
    "n"
   ]
  },
  {
   "cell_type": "code",
   "execution_count": 2,
   "metadata": {},
   "outputs": [
    {
     "name": "stdout",
     "output_type": "stream",
     "text": [
      "g\n",
      "dict_keys([])\n",
      "1\n",
      "o\n",
      "dict_keys(['g'])\n",
      "1\n",
      "o\n",
      "dict_keys(['g', 'o'])\n",
      "o\n",
      "2\n",
      "g\n",
      "dict_keys(['g', 'o'])\n",
      "g\n",
      "2\n",
      "l\n",
      "dict_keys(['g', 'o'])\n",
      "1\n",
      "e\n",
      "dict_keys(['g', 'o', 'l'])\n",
      "1\n",
      ".\n",
      "dict_keys(['g', 'o', 'l', 'e'])\n",
      "1\n",
      "c\n",
      "dict_keys(['g', 'o', 'l', 'e', '.'])\n",
      "1\n",
      "o\n",
      "dict_keys(['g', 'o', 'l', 'e', '.', 'c'])\n",
      "o\n",
      "3\n",
      "m\n",
      "dict_keys(['g', 'o', 'l', 'e', '.', 'c'])\n",
      "1\n"
     ]
    },
    {
     "data": {
      "text/plain": [
       "{'g': 2, 'o': 3, 'l': 1, 'e': 1, '.': 1, 'c': 1, 'm': 1}"
      ]
     },
     "execution_count": 2,
     "metadata": {},
     "output_type": "execute_result"
    }
   ],
   "source": [
    "'''2. Write a Python program to count the number of characters\n",
    "      (character frequency) in a string.'''\n",
    "string = \"google.com\"\n",
    "dict = {}\n",
    "for i in string:\n",
    "    print(i)\n",
    "    keys = dict.keys()\n",
    "    print(keys)\n",
    "    if i in keys:\n",
    "        print(i)\n",
    "        dict[i] += 1\n",
    "        print(dict[i])\n",
    "    else:\n",
    "        dict[i] = 1\n",
    "        print(dict[i])\n",
    "dict"
   ]
  },
  {
   "cell_type": "code",
   "execution_count": 43,
   "metadata": {},
   "outputs": [
    {
     "name": "stdout",
     "output_type": "stream",
     "text": [
      "w3w3\n"
     ]
    }
   ],
   "source": [
    "'''3. Write a Python program to get a string made of the first 2 and the last 2 chars from a given a string. If the string length is less than 2, return instead of the empty string.\n",
    "Sample String : 'w3resource'\n",
    "Expected Result : 'w3ce'\n",
    "Sample String : 'w3'\n",
    "Expected Result : 'w3w3'\n",
    "Sample String : ' w'\n",
    "Expected Result : Empty String '''\n",
    "def return_first2_and_last2_chars(sentence):\n",
    "    if len(sentence) > 2:\n",
    "        return_chars = sentence[:2] + sentence[-2:len(sentence)]\n",
    "    elif len(sentence) == 2:\n",
    "        return_chars = sentence[:] + sentence[:]\n",
    "    else:\n",
    "        return_chars = \"Empty String\"\n",
    "    return return_chars\n",
    "\n",
    "sentence = \"w3\"\n",
    "print(return_first2_and_last2_chars(sentence))"
   ]
  },
  {
   "cell_type": "code",
   "execution_count": 61,
   "metadata": {},
   "outputs": [
    {
     "data": {
      "text/plain": [
       "'resta$t'"
      ]
     },
     "execution_count": 61,
     "metadata": {},
     "output_type": "execute_result"
    }
   ],
   "source": [
    "'''4. Write a Python program to get a string from a given string where all occurrences of its first char have been changed to '$', except the first char itself.\n",
    "Sample String : 'restart'\n",
    "Expected Result : 'resta$t'''\n",
    "sentence = \"restart\"\n",
    "repalcing_sentence = \"\"\n",
    "for i in range(0,1):\n",
    "    repalcing_sentence+= sentence[i]\n",
    "    for j in range(1,len(sentence)):\n",
    "        if sentence[i] == sentence[j]:\n",
    "            repalcing_sentence+= \"$\"\n",
    "        else:\n",
    "            repalcing_sentence+= sentence[j] \n",
    "    \n",
    "repalcing_sentence"
   ]
  },
  {
   "cell_type": "code",
   "execution_count": 70,
   "metadata": {},
   "outputs": [
    {
     "data": {
      "text/plain": [
       "'xyc abz'"
      ]
     },
     "execution_count": 70,
     "metadata": {},
     "output_type": "execute_result"
    }
   ],
   "source": [
    "'''5. Write a Python program to get a single string from two given strings, separated by a space and swap the first two characters of each string. Go to the editor \n",
    "Sample String : 'abc', 'xyz' \n",
    "Expected Result : 'xyc abz' '''\n",
    "def string_manipulatiopn(s1, s2):\n",
    "    return s2[:2]+ s1[-1]+\" \"+s1[:2]+s2[-1] \n",
    "s1 = 'abc'\n",
    "s2 = 'xyz'\n",
    "string_manipulatiopn(s1, s2)"
   ]
  },
  {
   "cell_type": "code",
   "execution_count": 82,
   "metadata": {},
   "outputs": [
    {
     "name": "stdout",
     "output_type": "stream",
     "text": [
      "Enter an string: string\n"
     ]
    },
    {
     "data": {
      "text/plain": [
       "'stringly'"
      ]
     },
     "execution_count": 82,
     "metadata": {},
     "output_type": "execute_result"
    }
   ],
   "source": [
    "'''6. Write a Python program to add 'ing' at the end of a given string (length should be at least 3). If the given string already ends with 'ing' then add 'ly' instead. If the string length of the given string is less than 3, leave it unchanged.\n",
    "Sample String : 'abc'\n",
    "Expected Result : 'abcing' \n",
    "Sample String : 'string'\n",
    "Expected Result : 'stringly' '''\n",
    "sentence = input(\"Enter an string: \")\n",
    "if len(sentence) >= 3:\n",
    "    if sentence[-3:len(sentence)] != \"ing\":\n",
    "        sentence+= \"ing\"\n",
    "    else:\n",
    "        sentence+= \"ly\"\n",
    "    \n",
    "sentence"
   ]
  },
  {
   "cell_type": "code",
   "execution_count": 84,
   "metadata": {},
   "outputs": [
    {
     "data": {
      "text/plain": [
       "\"'The lyrics is good\""
      ]
     },
     "execution_count": 84,
     "metadata": {},
     "output_type": "execute_result"
    }
   ],
   "source": [
    "'''7. Write a Python program to find the first appearance of the substring 'not' and 'poor' from a given string, if 'not' follows the 'poor', replace the whole 'not'...'poor' substring with 'good'. Return the resulting string. \n",
    "Sample String : 'The lyrics is not that poor!'\n",
    "'The lyrics is poor!'\n",
    "Expected Result : 'The lyrics is good!',\n",
    "'The lyrics is poor!' '''\n",
    "sentence = \"'The lyrics is not that poor!\"\n",
    "sentence.replace('not that poor!','good')\n",
    "# isko bhi baad me dekhte hain"
   ]
  },
  {
   "cell_type": "code",
   "execution_count": 104,
   "metadata": {},
   "outputs": [
    {
     "name": "stdout",
     "output_type": "stream",
     "text": [
      "Enter a sentence: I am saboor\n"
     ]
    },
    {
     "data": {
      "text/plain": [
       "'saboor'"
      ]
     },
     "execution_count": 104,
     "metadata": {},
     "output_type": "execute_result"
    }
   ],
   "source": [
    "'''8. Write a Python function that takes a list of words and returns the length of the longest one. '''\n",
    "def longest_word(sentence):\n",
    "    words = sentence.split()\n",
    "    length_words = [len(i) for i in words]\n",
    "    return words[length_words.index(max(length_words))]\n",
    "\n",
    "sentence = input(\"Enter a sentence: \")\n",
    "longest_word(sentence)"
   ]
  },
  {
   "cell_type": "code",
   "execution_count": 111,
   "metadata": {},
   "outputs": [
    {
     "name": "stdout",
     "output_type": "stream",
     "text": [
      "Enter an string: saboor\n",
      "Enter removing index_value: 0\n"
     ]
    },
    {
     "data": {
      "text/plain": [
       "'aboor'"
      ]
     },
     "execution_count": 111,
     "metadata": {},
     "output_type": "execute_result"
    }
   ],
   "source": [
    "'''9. Write a Python program to remove the nth index character from a nonempty string.'''\n",
    "string = input(\"Enter an string: \")\n",
    "removing_index = int(input(\"Enter removing index_value: \"))\n",
    "string = string.replace(string[removing_index],\"\")\n",
    "string"
   ]
  },
  {
   "cell_type": "code",
   "execution_count": 113,
   "metadata": {},
   "outputs": [
    {
     "name": "stdout",
     "output_type": "stream",
     "text": [
      "Enter an string: Abdul Saboor\n"
     ]
    },
    {
     "data": {
      "text/plain": [
       "'rbdul SabooA'"
      ]
     },
     "execution_count": 113,
     "metadata": {},
     "output_type": "execute_result"
    }
   ],
   "source": [
    "'''10. Write a Python program to change a given string to a new string where the first and last chars have been exchanged.'''\n",
    "string = input(\"Enter an string: \")\n",
    "string = string[-1] + string[1:len(string)-1] + string[0]\n",
    "string"
   ]
  },
  {
   "cell_type": "code",
   "execution_count": 2,
   "metadata": {},
   "outputs": [
    {
     "name": "stdout",
     "output_type": "stream",
     "text": [
      "Enter a sentence: abcdef\n"
     ]
    },
    {
     "data": {
      "text/plain": [
       "'bdf'"
      ]
     },
     "execution_count": 2,
     "metadata": {},
     "output_type": "execute_result"
    }
   ],
   "source": [
    "'''11. Write a Python program to remove the characters which have odd index values of a given string.'''\n",
    "sentence = input(\"Enter a sentence: \")\n",
    "odd_letters = ''\n",
    "result = [sentence[i] for i in range(1,len(sentence),2)]\n",
    "for i in result:\n",
    "    odd_letters+= i\n",
    "odd_letters"
   ]
  },
  {
   "cell_type": "code",
   "execution_count": 117,
   "metadata": {},
   "outputs": [
    {
     "name": "stdout",
     "output_type": "stream",
     "text": [
      "Enter an string: I and I and I\n"
     ]
    },
    {
     "data": {
      "text/plain": [
       "3"
      ]
     },
     "execution_count": 117,
     "metadata": {},
     "output_type": "execute_result"
    }
   ],
   "source": [
    "'''12. Write a Python program to count the occurrences of each word in a given sentence. '''\n",
    "sentence = input(\"Enter an string: \")\n",
    "sentence.count('I')"
   ]
  },
  {
   "cell_type": "code",
   "execution_count": 4,
   "metadata": {},
   "outputs": [
    {
     "name": "stdout",
     "output_type": "stream",
     "text": [
      "Enter an string: Saboor\n",
      "SABOOR\n",
      "saboor\n"
     ]
    }
   ],
   "source": [
    "'''13. Write a Python script that takes input from the user and displays that input back in upper and lower cases.'''\n",
    "sentence = input(\"Enter an string: \")\n",
    "print(sentence.upper())\n",
    "print(sentence.lower())"
   ]
  },
  {
   "cell_type": "code",
   "execution_count": 20,
   "metadata": {},
   "outputs": [
    {
     "data": {
      "text/plain": [
       "'black, green, white, red'"
      ]
     },
     "execution_count": 20,
     "metadata": {},
     "output_type": "execute_result"
    }
   ],
   "source": [
    "'''14. Write a Python program that accepts a comma separated sequence of words as input and prints the unique words in sorted form (alphanumerically). Go to the editor\n",
    "Sample Words : red, white, black, red, green, black\n",
    "Expected Result : black, green, red, white,red'''\n",
    "input_value = \"red,white,black,red,green,black\"\n",
    "list_input_value = input_value.split(\",\")\n",
    "list_input_value.sort()\n",
    "sorted_values = \", \".join([i for i in set(list_input_value)])\n",
    "sorted_values"
   ]
  },
  {
   "cell_type": "code",
   "execution_count": 23,
   "metadata": {},
   "outputs": [
    {
     "name": "stdout",
     "output_type": "stream",
     "text": [
      "Enter a string: Exercises\n"
     ]
    },
    {
     "data": {
      "text/plain": [
       "'eseseses'"
      ]
     },
     "execution_count": 23,
     "metadata": {},
     "output_type": "execute_result"
    }
   ],
   "source": [
    "'''15.Write a Python function to get a string made of 4 copies of the last two characters of a specified string (length must be at least 2).'''\n",
    "def return_last2letters_4times(string):\n",
    "    return string[-2:] * 4 \n",
    "string = input(\"Enter a string: \")\n",
    "return_last2letters_4times(string)"
   ]
  },
  {
   "cell_type": "code",
   "execution_count": 26,
   "metadata": {},
   "outputs": [
    {
     "name": "stdout",
     "output_type": "stream",
     "text": [
      "Enter a string: saboor\n"
     ]
    },
    {
     "data": {
      "text/plain": [
       "'sab'"
      ]
     },
     "execution_count": 26,
     "metadata": {},
     "output_type": "execute_result"
    }
   ],
   "source": [
    "'''16. Write a Python function to get a string made of its first three characters of a specified string. If the length of the string is less than 3 then return the original string.\n",
    "Sample function and result : \n",
    "first_three('ipy') -> ipy\n",
    "first_three('python') -> pyt'''\n",
    "def manipulation(string):\n",
    "    if len(string) > 3:\n",
    "        return string[:3]\n",
    "    else:\n",
    "        return string\n",
    "string = input(\"Enter a string: \")\n",
    "manipulation(string)"
   ]
  },
  {
   "cell_type": "code",
   "execution_count": 47,
   "metadata": {},
   "outputs": [
    {
     "name": "stdout",
     "output_type": "stream",
     "text": [
      "https://www.w3resource.com/python-exercises\n",
      "https://www.w3resource.com/python\n"
     ]
    }
   ],
   "source": [
    "'''17.Write a Python program to get the last part of a string before a specified character.\n",
    "https://www.w3resource.com/python-exercises\n",
    "https://www.w3resource.com/python '''\n",
    "str1 = 'https://www.w3resource.com/python-exercises/string'\n",
    "print(str1.rsplit('/', 1)[0])  #naya tareeqa seekha h use karne ka\n",
    "print(str1.rsplit('-', 1)[0])"
   ]
  },
  {
   "cell_type": "code",
   "execution_count": 63,
   "metadata": {},
   "outputs": [
    {
     "name": "stdout",
     "output_type": "stream",
     "text": [
      "Enter a string: Ruby\n",
      "ybuR\n"
     ]
    }
   ],
   "source": [
    "'''18.Write a Python function to reverses a string if it's length is a multiple of 4.'''\n",
    "def reverse_sentence(sentence):\n",
    "    result = ''\n",
    "    for i in range(len(sentence)-1, -1,-1):\n",
    "        result+= sentence[i]\n",
    "    return result    \n",
    "\n",
    "sentence = input(\"Enter a string: \")\n",
    "if len(sentence) % 4 == 0:\n",
    "    print(reverse_sentence(sentence))\n",
    "else:\n",
    "    print(sentence)"
   ]
  },
  {
   "cell_type": "code",
   "execution_count": 75,
   "metadata": {},
   "outputs": [
    {
     "name": "stdout",
     "output_type": "stream",
     "text": [
      "Enter a string: SAboor\n"
     ]
    },
    {
     "data": {
      "text/plain": [
       "'SABOOR'"
      ]
     },
     "execution_count": 75,
     "metadata": {},
     "output_type": "execute_result"
    }
   ],
   "source": [
    "'''19.Write a Python function to convert a given string to all uppercase if it contains at least 2 uppercase characters in the first 4 characters.'''\n",
    "string = input(\"Enter a string: \")\n",
    "n = 0\n",
    "for i in range(0, 4):\n",
    "    if string[i].isupper():\n",
    "        n+=1\n",
    "if n >= 2:\n",
    "    string = string.upper()\n",
    "string"
   ]
  },
  {
   "cell_type": "code",
   "execution_count": 79,
   "metadata": {},
   "outputs": [
    {
     "data": {
      "text/plain": [
       "['b', 'c', 'i', 'k', 'n', 'o', 'q', 'r', 'u', 'w']"
      ]
     },
     "execution_count": 79,
     "metadata": {},
     "output_type": "execute_result"
    }
   ],
   "source": [
    "'''20.Write a Python program to sort a string lexicographically. '''\n",
    "string = \"quickbrown\"\n",
    "letters = list(string)\n",
    "letters.sort()\n",
    "letters"
   ]
  },
  {
   "cell_type": "code",
   "execution_count": 84,
   "metadata": {},
   "outputs": [
    {
     "name": "stdout",
     "output_type": "stream",
     "text": [
      "True\n"
     ]
    }
   ],
   "source": [
    "'''21.Write a Python program to check whether a string starts with specified characters.'''\n",
    "string = \"w3resource.com\"\n",
    "print(string.startswith(\"w3res\"))"
   ]
  },
  {
   "cell_type": "code",
   "execution_count": 85,
   "metadata": {},
   "outputs": [
    {
     "data": {
      "text/plain": [
       "' Write a Python program to create a Caesar encryption.'"
      ]
     },
     "execution_count": 85,
     "metadata": {},
     "output_type": "execute_result"
    }
   ],
   "source": [
    "'''22. Write a Python program to create a Caesar encryption.'''\n",
    "#baad me karoonga"
   ]
  },
  {
   "cell_type": "code",
   "execution_count": 101,
   "metadata": {},
   "outputs": [
    {
     "name": "stdout",
     "output_type": "stream",
     "text": [
      "12.35\n"
     ]
    }
   ],
   "source": [
    "'''23.Write a Python program to print the following floating numbers upto 2 decimal places.'''\n",
    "num = 12.345678900\n",
    "print(\"{:.2f}\".format(num))"
   ]
  },
  {
   "cell_type": "code",
   "execution_count": 103,
   "metadata": {},
   "outputs": [
    {
     "name": "stdout",
     "output_type": "stream",
     "text": [
      "13\n"
     ]
    }
   ],
   "source": [
    "'''24.Write a Python program to print the following floating numbers with no decimal places.'''\n",
    "num = 12.945678900\n",
    "print(\"{:.0f}\".format(num))"
   ]
  },
  {
   "cell_type": "code",
   "execution_count": 106,
   "metadata": {},
   "outputs": [
    {
     "name": "stdout",
     "output_type": "stream",
     "text": [
      "3,000,000,000,000\n"
     ]
    }
   ],
   "source": [
    "'''25.Write a Python program to display a number with a comma separator.'''\n",
    "num = 3000000000000\n",
    "print(\"{:,}\".format(num))"
   ]
  },
  {
   "cell_type": "code",
   "execution_count": 114,
   "metadata": {},
   "outputs": [
    {
     "name": "stdout",
     "output_type": "stream",
     "text": [
      "Enter an string: I am saboor and am I and am not i\n"
     ]
    },
    {
     "data": {
      "text/plain": [
       "2"
      ]
     },
     "execution_count": 114,
     "metadata": {},
     "output_type": "execute_result"
    }
   ],
   "source": [
    "'''26.Write a Python program to count occurrences of a substring in a string.'''\n",
    "string = input(\"Enter an string: \")\n",
    "string.count('and')"
   ]
  },
  {
   "cell_type": "code",
   "execution_count": 120,
   "metadata": {},
   "outputs": [
    {
     "name": "stdout",
     "output_type": "stream",
     "text": [
      "roobas\n"
     ]
    }
   ],
   "source": [
    "'''27.Write a Python program to reverse a string.'''\n",
    "string = \"saboor\"\n",
    "print(''.join(reversed(string)))"
   ]
  },
  {
   "cell_type": "code",
   "execution_count": 50,
   "metadata": {},
   "outputs": [
    {
     "data": {
      "text/plain": [
       "'fox brown quick The'"
      ]
     },
     "execution_count": 50,
     "metadata": {},
     "output_type": "execute_result"
    }
   ],
   "source": [
    "'''28.Write a Python program to reverse words in a string.'''\n",
    "string = \"The quick brown fox\"\n",
    "s = ''\n",
    "words = string.split()\n",
    "for i in range(len(words)-1,-1,-1):\n",
    "    s+= words[i]+\" \"\n",
    "s.rstrip()"
   ]
  },
  {
   "cell_type": "code",
   "execution_count": 11,
   "metadata": {},
   "outputs": [
    {
     "data": {
      "text/plain": [
       "'192.168.1.1'"
      ]
     },
     "execution_count": 11,
     "metadata": {},
     "output_type": "execute_result"
    }
   ],
   "source": [
    "'''29.Write a Python program to remove leading zeros from an IP address.'''\n",
    "ip_address = \"192.168.01.01\"\n",
    "remove_leading_zero =\".\".join([str(int(i)) for i in ip_address.split('.')])\n",
    "remove_leading_zero"
   ]
  },
  {
   "cell_type": "code",
   "execution_count": 24,
   "metadata": {},
   "outputs": [
    {
     "data": {
      "text/plain": [
       "15"
      ]
     },
     "execution_count": 24,
     "metadata": {},
     "output_type": "execute_result"
    }
   ],
   "source": [
    "'''30.Write a Python program to compute sum of digits of a given string.'''\n",
    "string = \"123abc45\"\n",
    "total = 0\n",
    "for i in string:\n",
    "    if i.isdigit():\n",
    "        total+= int(i)\n",
    "total"
   ]
  },
  {
   "cell_type": "code",
   "execution_count": 30,
   "metadata": {},
   "outputs": [
    {
     "name": "stdout",
     "output_type": "stream",
     "text": [
      "Enter an string: w3resources\n"
     ]
    },
    {
     "data": {
      "text/plain": [
       "'w3resouc'"
      ]
     },
     "execution_count": 30,
     "metadata": {},
     "output_type": "execute_result"
    }
   ],
   "source": [
    "'''31.Write a Python program to remove duplicate characters of a given string.'''\n",
    "string = input(\"Enter an string: \")\n",
    "remove_duplicates = []\n",
    "for i in string:\n",
    "    if i not in remove_duplicates:\n",
    "        remove_duplicates.append(i)\n",
    "        \n",
    "new_string = ''.join([i for i in remove_duplicates])\n",
    "new_string"
   ]
  },
  {
   "cell_type": "code",
   "execution_count": 41,
   "metadata": {},
   "outputs": [
    {
     "name": "stdout",
     "output_type": "stream",
     "text": [
      "Enter a sentence: I am saboor and I love Rahima\n"
     ]
    },
    {
     "data": {
      "text/plain": [
       "'I AM SabooR AnD I LovE RahimA'"
      ]
     },
     "execution_count": 41,
     "metadata": {},
     "output_type": "execute_result"
    }
   ],
   "source": [
    "'''32.Write a Python program to capitalize first and last letters of each word of a given string. '''\n",
    "sentence = input(\"Enter a sentence: \")\n",
    "words = sentence.split()\n",
    "new_words = []\n",
    "for word in words:\n",
    "    if len(word)>= 2:\n",
    "        word = word[0].upper()+ word[1:len(word)-1] + word[-1].upper()\n",
    "    else:\n",
    "        word = word[0].upper()\n",
    "    new_words.append(word)\n",
    "manipulated_sentence = \" \".join([i for i in new_words])\n",
    "manipulated_sentence"
   ]
  },
  {
   "cell_type": "code",
   "execution_count": 56,
   "metadata": {},
   "outputs": [
    {
     "name": "stdout",
     "output_type": "stream",
     "text": [
      "Enter an string: qustuntunia\n",
      "q: 1\n",
      "u: 3\n",
      "s: 1\n",
      "t: 2\n",
      "n: 2\n",
      "i: 1\n",
      "a: 1\n",
      "Miximum occuring chartacter is u which occurs 3 times\n"
     ]
    }
   ],
   "source": [
    "'''33.Write a Python program to find the maximum occurring character in a given string.'''\n",
    "string = input(\"Enter an string: \")\n",
    "chars = []\n",
    "count = []\n",
    "for i in string:\n",
    "    if i not in chars:\n",
    "        chars.append(i)\n",
    "chars\n",
    "for i in chars:\n",
    "    n = 0\n",
    "    for j in list(string):\n",
    "        if i == j:\n",
    "            n+= 1\n",
    "    count.append(n)\n",
    "    print(i+\": \"+str(n))\n",
    "max_index = count.index(max(count))\n",
    "print(\"Miximum occuring chartacter is \"+chars[max_index]+\" which occurs \"+str(count[max_index])+\" times\")\n",
    "        "
   ]
  },
  {
   "cell_type": "code",
   "execution_count": 57,
   "metadata": {},
   "outputs": [
    {
     "name": "stdout",
     "output_type": "stream",
     "text": [
      "Enter an stringI am saboor\n"
     ]
    },
    {
     "data": {
      "text/plain": [
       "'Iamsaboor'"
      ]
     },
     "execution_count": 57,
     "metadata": {},
     "output_type": "execute_result"
    }
   ],
   "source": [
    "'''34.Write a Python program to remove spaces from a given string.'''\n",
    "sentence = input(\"Enter an string\")\n",
    "with_out_spaces = \"\".join([word for word in sentence.split()])\n",
    "with_out_spaces"
   ]
  },
  {
   "cell_type": "code",
   "execution_count": 61,
   "metadata": {},
   "outputs": [
    {
     "name": "stdout",
     "output_type": "stream",
     "text": [
      "Enter an string: reshiiiiee\n",
      "r: 1\n",
      "e: 3\n",
      "s: 1\n",
      "h: 1\n",
      "i: 4\n",
      "2nd Miximum occuring chartacter is e which occurs 3 times\n"
     ]
    }
   ],
   "source": [
    "'''35.Write a Python program to find the second most repeated word in a given string.'''\n",
    "string = input(\"Enter an string: \")\n",
    "chars = []\n",
    "count = []\n",
    "for i in string:\n",
    "    if i not in chars:\n",
    "        chars.append(i)\n",
    "chars\n",
    "for i in chars:\n",
    "    n = 0\n",
    "    for j in list(string):\n",
    "        if i == j:\n",
    "            n+= 1\n",
    "    count.append(n)\n",
    "    print(i+\": \"+str(n))\n",
    "count.remove(max(count))\n",
    "max_index = count.index(max(count))\n",
    "print(\"2nd Miximum occuring chartacter is \"+chars[max_index]+\" which occurs \"+str(count[max_index])+\" times\")\n"
   ]
  },
  {
   "cell_type": "code",
   "execution_count": 76,
   "metadata": {},
   "outputs": [
    {
     "name": "stdout",
     "output_type": "stream",
     "text": [
      "Enter an streing: shahbano\n",
      "The first repeated word is: h\n"
     ]
    }
   ],
   "source": [
    "'''36. Write a Python program to find the first repeated word in a given string.'''\n",
    "string = input(\"Enter an string: \")\n",
    "chars = []\n",
    "for i in string:\n",
    "    if i not in chars:\n",
    "        chars.append(i)\n",
    "    else:\n",
    "        first_repeated_word = i\n",
    "        break\n",
    "print(\"The first repeated character is: \"+first_repeated_word) "
   ]
  },
  {
   "cell_type": "code",
   "execution_count": 84,
   "metadata": {},
   "outputs": [
    {
     "name": "stdout",
     "output_type": "stream",
     "text": [
      "Enter an string: saas\n",
      "The first repeated word is: a whose index is 1\n"
     ]
    }
   ],
   "source": [
    "'''37. Write a Python program to find the first repeated character of a given string where the index of first occurrence is smallest.'''\n",
    "string = input(\"Enter an string: \")\n",
    "chars = []\n",
    "for i in range(0, len(string)):\n",
    "    if string[i] not in chars:\n",
    "        chars.append(string[i])\n",
    "    else:\n",
    "        first_repeated_word = string[i]\n",
    "        index = string.index(first_repeated_word)\n",
    "        break\n",
    "print(\"The first repeated character is: \"+first_repeated_word+\" whose index is \"+str(index)) "
   ]
  },
  {
   "cell_type": "code",
   "execution_count": 90,
   "metadata": {},
   "outputs": [
    {
     "name": "stdout",
     "output_type": "stream",
     "text": [
      "Enter an string: Bilal Hussain\n",
      "Vowel a occur 2 times in Bilal Hussain\n",
      "Vowel i occur 2 times in Bilal Hussain\n",
      "Vowel u occur 1 times in Bilal Hussain\n"
     ]
    }
   ],
   "source": [
    "'''38. Write a Python program to count and display the vowels of a given text.'''\n",
    "vowels = ['a','e','i','o','u']\n",
    "string = input(\"Enter an string: \")\n",
    "n = 0\n",
    "for i in vowels:\n",
    "    n = 0\n",
    "    for j in string:\n",
    "        if i == j.lower():\n",
    "            n+=1\n",
    "    if n > 0:\n",
    "        print(\"Vowel \"+i+\" occur \"+str(n)+\" times in \"+string)"
   ]
  },
  {
   "cell_type": "code",
   "execution_count": 93,
   "metadata": {},
   "outputs": [
    {
     "data": {
      "text/plain": [
       "'32,054,23'"
      ]
     },
     "execution_count": 93,
     "metadata": {},
     "output_type": "execute_result"
    }
   ],
   "source": [
    "'''39.Write a Python program to swap comma and dot in a string.\n",
    "Sample string: \"32.054,23\"\n",
    "Expected Output: \"32,054.23\" '''\n",
    "string = \"32.054,23\"\n",
    "dot_index = string.index(\".\")\n",
    "dot_index = string.index(\",\")\n",
    "temp = string[dot_index] \n",
    "string[dot_index] = string[comma_index]\n",
    "string[comma_index] = temp\n",
    "#dekhoonga baad me"
   ]
  },
  {
   "cell_type": "code",
   "execution_count": 7,
   "metadata": {},
   "outputs": [
    {
     "name": "stdout",
     "output_type": "stream",
     "text": [
      "Enter an string: want to kiss you\n",
      "Enter length of characters that you want to lowercase: 7\n"
     ]
    },
    {
     "data": {
      "text/plain": [
       "'WANT TO kiss you'"
      ]
     },
     "execution_count": 7,
     "metadata": {},
     "output_type": "execute_result"
    }
   ],
   "source": [
    "'''40.Write a Python program to uppercase first n characters in a string.'''\n",
    "string = input(\"Enter an string: \")\n",
    "n = int(input(\"Enter length of characters that you want to lowercase: \"))\n",
    "manipulates_string = ''.join([string[i].upper() for i in range(0, n)]) + string[n:]\n",
    "manipulates_string"
   ]
  },
  {
   "cell_type": "code",
   "execution_count": 9,
   "metadata": {},
   "outputs": [
    {
     "name": "stdout",
     "output_type": "stream",
     "text": [
      "Enter an string: Abdul Saboor\n"
     ]
    },
    {
     "data": {
      "text/plain": [
       "['A', 'b', 'd', 'u', 'l', ' ', 'S', 'a', 'b', 'o', 'o', 'r']"
      ]
     },
     "execution_count": 9,
     "metadata": {},
     "output_type": "execute_result"
    }
   ],
   "source": [
    "'''41.Write a Python program to convert a string in a list.'''\n",
    "string = input(\"Enter an string: \")\n",
    "string = list(string)\n",
    "string"
   ]
  },
  {
   "cell_type": "code",
   "execution_count": 12,
   "metadata": {},
   "outputs": [
    {
     "name": "stdout",
     "output_type": "stream",
     "text": [
      "Enter an string: s1ab13oor95\n",
      "No\n"
     ]
    }
   ],
   "source": [
    "'''42.Write a Python program to check if a string contains all letters of the alphabet. '''\n",
    "string = input(\"Enter an string: \")\n",
    "if string.isalpha():\n",
    "    print(\"yes\")\n",
    "else:\n",
    "    print(\"No\")"
   ]
  },
  {
   "cell_type": "code",
   "execution_count": 15,
   "metadata": {},
   "outputs": [
    {
     "name": "stdout",
     "output_type": "stream",
     "text": [
      "Enter an string: saboor\n",
      "Current character s position at 0\n",
      "Current character a position at 1\n",
      "Current character b position at 2\n",
      "Current character o position at 3\n",
      "Current character o position at 4\n",
      "Current character r position at 5\n"
     ]
    }
   ],
   "source": [
    "'''43.Write a Python program to print the index of the character in a string.\n",
    "Sample string: w3resource\n",
    "Expected output:\n",
    "Current character w position at 0\n",
    "Current character 3 position at 1\n",
    "Current character r position at 2\n",
    "- - - - - - - - - - - - - - - - - - - - - - - - -\n",
    "Current character c position at 8\n",
    "Current character e position at 9'''\n",
    "string = input(\"Enter an string: \")\n",
    "for i in range(0, len(string)):\n",
    "    print(\"Current character \"+string[i]+\" position at \"+str(i))"
   ]
  },
  {
   "cell_type": "code",
   "execution_count": 43,
   "metadata": {},
   "outputs": [
    {
     "name": "stdout",
     "output_type": "stream",
     "text": [
      "Enter an string: shahbano\n",
      "h: 2\n",
      "a: 2\n"
     ]
    }
   ],
   "source": [
    "'''44. Write a Python program to count repeated characters in a string. Go to the editor\n",
    "Sample string: 'thequickbrownfoxjumpsoverthelazydog'\n",
    "Expected output :\n",
    "o 4\n",
    "e 3\n",
    "u 2\n",
    "h 2\n",
    "r 2\n",
    "t 2'''\n",
    "string = input(\"Enter an string: \")\n",
    "unique_letters = []\n",
    "unique_letters_occurence = []\n",
    "for i in string:\n",
    "    if i not in unique_letters:\n",
    "        unique_letters.append(i)\n",
    "\n",
    "for i in unique_letters:\n",
    "    n = 0\n",
    "    for j in string:\n",
    "        if i == j:\n",
    "            n+= 1\n",
    "    unique_letters_occurence.append(n)\n",
    "\n",
    "for i in range(0,len(unique_letters_occurence)):\n",
    "    if unique_letters_occurence[i] > 1:\n",
    "        print(unique_letters[i]+\": \"+str(unique_letters_occurence[i]))"
   ]
  },
  {
   "cell_type": "code",
   "execution_count": 49,
   "metadata": {},
   "outputs": [
    {
     "name": "stdout",
     "output_type": "stream",
     "text": [
      "Enter an string: The quick brown fox\n",
      "Enter characters in string form you want to strip: aeiou\n"
     ]
    },
    {
     "data": {
      "text/plain": [
       "'Th qck brwn fx'"
      ]
     },
     "execution_count": 49,
     "metadata": {},
     "output_type": "execute_result"
    }
   ],
   "source": [
    "'''45.Write a Python program to strip a set of characters from a string.'''\n",
    "string = input(\"Enter an string: \")\n",
    "set_of_striping_chars = input(\"Enter characters in string form you want to strip: \")\n",
    "manipulated_string = \"\".join([i for i in string if i.lower() not in set_of_striping_chars])\n",
    "manipulated_string"
   ]
  },
  {
   "cell_type": "code",
   "execution_count": 3,
   "metadata": {},
   "outputs": [
    {
     "name": "stdout",
     "output_type": "stream",
     "text": [
      "Enter a sentence: I am saboor and I am not a terrorist\n"
     ]
    },
    {
     "data": {
      "text/plain": [
       "{'I': 2, 'am': 2, 'saboor': 1, 'and': 1, 'not': 1, 'a': 1, 'terrorist': 1}"
      ]
     },
     "execution_count": 3,
     "metadata": {},
     "output_type": "execute_result"
    }
   ],
   "source": [
    "'''46. Write program to count the frequency of words in a sentence'''\n",
    "\n",
    "sentence = input(\"Enter a sentence: \")\n",
    "words = sentence.split()\n",
    "unique_words = []\n",
    "n = 1\n",
    "for i in words:\n",
    "    if i not in unique_words:\n",
    "        unique_words.append(i)\n",
    "frequency = []\n",
    "word_freq = {}\n",
    "n = 0\n",
    "for i in unique_words:\n",
    "    n = 0\n",
    "    for j in words:\n",
    "        if i == j:\n",
    "            n+=1\n",
    "    frequency.append(n)\n",
    "index = 0\n",
    "for i in unique_words:\n",
    "    word_freq[i] = frequency[index]\n",
    "    index+= 1\n",
    "word_freq"
   ]
  },
  {
   "cell_type": "code",
   "execution_count": 2,
   "metadata": {},
   "outputs": [
    {
     "name": "stdout",
     "output_type": "stream",
     "text": [
      "Enter an string: saboor\n"
     ]
    },
    {
     "data": {
      "text/plain": [
       "{'s': 1, 'a': 1, 'b': 1, 'o': 2, 'r': 1}"
      ]
     },
     "execution_count": 2,
     "metadata": {},
     "output_type": "execute_result"
    }
   ],
   "source": [
    "'''47. Write program to count the frequency of letters in a string'''\n",
    "\n",
    "string = input(\"Enter an string: \")\n",
    "letters = [i for i in string]\n",
    "unique_letters = []\n",
    "n = 1\n",
    "for i in letters:\n",
    "    if i not in unique_letters:\n",
    "        unique_letters.append(i)\n",
    "frequency = []\n",
    "letter_freq = {}\n",
    "n = 0\n",
    "for i in unique_letters:\n",
    "    n = 0\n",
    "    for j in letters:\n",
    "        if i == j:\n",
    "            n+=1\n",
    "    frequency.append(n)\n",
    "index = 0\n",
    "for i in unique_letters:\n",
    "    letter_freq[i] = frequency[index]\n",
    "    index+= 1\n",
    "letter_freq"
   ]
  },
  {
   "cell_type": "code",
   "execution_count": null,
   "metadata": {},
   "outputs": [],
   "source": []
  }
 ],
 "metadata": {
  "kernelspec": {
   "display_name": "Python 3",
   "language": "python",
   "name": "python3"
  },
  "language_info": {
   "codemirror_mode": {
    "name": "ipython",
    "version": 3
   },
   "file_extension": ".py",
   "mimetype": "text/x-python",
   "name": "python",
   "nbconvert_exporter": "python",
   "pygments_lexer": "ipython3",
   "version": "3.6.5"
  }
 },
 "nbformat": 4,
 "nbformat_minor": 2
}
